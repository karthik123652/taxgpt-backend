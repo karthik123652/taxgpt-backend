{
 "cells": [
  {
   "cell_type": "code",
   "execution_count": 1,
   "metadata": {},
   "outputs": [
    {
     "name": "stdout",
     "output_type": "stream",
     "text": [
      "* Running on local URL:  http://127.0.0.1:7860\n",
      "\n",
      "To create a public link, set `share=True` in `launch()`.\n"
     ]
    },
    {
     "data": {
      "text/html": [
       "<div><iframe src=\"http://127.0.0.1:7860/\" width=\"100%\" height=\"500\" allow=\"autoplay; camera; microphone; clipboard-read; clipboard-write;\" frameborder=\"0\" allowfullscreen></iframe></div>"
      ],
      "text/plain": [
       "<IPython.core.display.HTML object>"
      ]
     },
     "metadata": {},
     "output_type": "display_data"
    },
    {
     "data": {
      "text/plain": []
     },
     "execution_count": 1,
     "metadata": {},
     "output_type": "execute_result"
    },
    {
     "name": "stdout",
     "output_type": "stream",
     "text": [
      "Created dataset file at: .gradio/flagged/dataset1.csv\n"
     ]
    }
   ],
   "source": [
    "# Install necessary libraries\n",
    "from dotenv import load_dotenv\n",
    "import os\n",
    "\n",
    "load_dotenv()\n",
    "gemini_api_key=os.environ.get('gemini_api_key')\n",
    "\n",
    "\n",
    "\n",
    "import google.generativeai as genai\n",
    "import gradio as gr\n",
    "\n",
    "genai.configure(api_key=gemini_api_key)  # Replace with your API key\n",
    "\n",
    "model = genai.GenerativeModel(model_name=\"gemini-1.5-flash\")\n",
    "\n",
    "def generate_itr_advice(income_sources, deductions):\n",
    "    \"\"\"\n",
    "    Generate ITR filing advice using Gemini AI.\n",
    "    \"\"\"\n",
    "    prompt = f\"\"\"\n",
    "    You are a supreme absolute tax assistant helping users determine the correct ITR form and tax-saving options.\n",
    "    The user has the following income sources: {income_sources}.\n",
    "    They are considering deductions under: {deductions}.\n",
    "    \n",
    "    Recommend the appropriate ITR form and suggest possible tax-saving investments.\n",
    "    Keep the response concise and easy to understand also don't say consult a profession.\n",
    "    \"\"\"\n",
    "    \n",
    "    response = model.generate_content(prompt)\n",
    "    \n",
    "    if response.candidates:\n",
    "        return response.candidates[0].content.parts[0].text\n",
    "    else:\n",
    "        return \"No response generated.\"\n",
    "\n",
    "def gradio_interface(income_sources, deductions):\n",
    "    return generate_itr_advice(income_sources, deductions)\n",
    "\n",
    "iface = gr.Interface(\n",
    "    fn=gradio_interface,\n",
    "    inputs=[\n",
    "        gr.Textbox(label=\"Income Sources (e.g., Salary, Business, Rental, Capital Gains)\"),\n",
    "        gr.Textbox(label=\"Deductions Considered (e.g., 80C, 80D, Home Loan, NPS)\")\n",
    "    ],\n",
    "    outputs=\"text\",\n",
    "    title=\"Smart ITR Filing Chatbot\",\n",
    "    description=\"Get AI-powered recommendations for selecting the right ITR form and maximizing tax savings!\"\n",
    ")\n",
    "\n"
   ]
  },
  {
   "cell_type": "code",
   "execution_count": null,
   "metadata": {},
   "outputs": [],
   "source": []
  }
 ],
 "metadata": {
  "kernelspec": {
   "display_name": "base",
   "language": "python",
   "name": "python3"
  },
  "language_info": {
   "codemirror_mode": {
    "name": "ipython",
    "version": 3
   },
   "file_extension": ".py",
   "mimetype": "text/x-python",
   "name": "python",
   "nbconvert_exporter": "python",
   "pygments_lexer": "ipython3",
   "version": "3.12.4"
  }
 },
 "nbformat": 4,
 "nbformat_minor": 2
}
